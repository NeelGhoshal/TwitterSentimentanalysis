{
  "nbformat": 4,
  "nbformat_minor": 0,
  "metadata": {
    "colab": {
      "name": "TwitterSentimentAnalysis.ipynb",
      "provenance": [],
      "authorship_tag": "ABX9TyPuSeyUfkyf8zbvrO2k74MZ",
      "include_colab_link": true
    },
    "kernelspec": {
      "name": "python3",
      "display_name": "Python 3"
    },
    "language_info": {
      "name": "python"
    }
  },
  "cells": [
    {
      "cell_type": "markdown",
      "metadata": {
        "id": "view-in-github",
        "colab_type": "text"
      },
      "source": [
        "<a href=\"https://colab.research.google.com/github/NeelGhoshal/TwitterSentimentanalysis/blob/main/TwitterSentimentAnalysis.ipynb\" target=\"_parent\"><img src=\"https://colab.research.google.com/assets/colab-badge.svg\" alt=\"Open In Colab\"/></a>"
      ]
    },
    {
      "cell_type": "code",
      "execution_count": 6,
      "metadata": {
        "id": "HZo6S1j3jnQh"
      },
      "outputs": [],
      "source": [
        "import pandas as pd\n",
        "\n",
        "# Matplot\n",
        "import matplotlib.pyplot as plt\n",
        "%matplotlib inline\n",
        "\n",
        "# Scikit-learn\n",
        "from sklearn.model_selection import train_test_split\n",
        "from sklearn.preprocessing import LabelEncoder\n",
        "from sklearn.metrics import confusion_matrix, classification_report, accuracy_score\n",
        "from sklearn.manifold import TSNE\n",
        "from sklearn.feature_extraction.text import TfidfVectorizer\n",
        "\n",
        "# Keras\n",
        "from keras.preprocessing.text import Tokenizer\n",
        "from keras.preprocessing.sequence import pad_sequences\n",
        "from keras.models import Sequential\n",
        "from keras.layers import Activation, Dense, Dropout, Embedding, Flatten, Conv1D, MaxPooling1D, LSTM\n",
        "from keras import utils\n",
        "from keras.callbacks import ReduceLROnPlateau, EarlyStopping\n",
        "\n",
        "# nltk\n",
        "import nltk\n",
        "from nltk.corpus import stopwords\n",
        "from  nltk.stem import SnowballStemmer\n",
        "\n",
        "# Word2vec\n",
        "import gensim\n",
        "\n",
        "# Utility\n",
        "import re\n",
        "import numpy as np\n",
        "import os\n",
        "from collections import Counter\n",
        "import logging\n",
        "import time\n",
        "import pickle\n",
        "import itertools\n",
        "\n",
        "# Set log\n",
        "logging.basicConfig(format='%(asctime)s : %(levelname)s : %(message)s', level=logging.INFO)"
      ]
    },
    {
      "cell_type": "code",
      "source": [
        "nltk.download('stopwords')"
      ],
      "metadata": {
        "colab": {
          "base_uri": "https://localhost:8080/"
        },
        "id": "MVYx_eKn4cQf",
        "outputId": "c6f912c6-07a7-4dc9-d70c-e67de9373c30"
      },
      "execution_count": 7,
      "outputs": [
        {
          "output_type": "stream",
          "name": "stdout",
          "text": [
            "[nltk_data] Downloading package stopwords to /root/nltk_data...\n",
            "[nltk_data]   Package stopwords is already up-to-date!\n"
          ]
        },
        {
          "output_type": "execute_result",
          "data": {
            "text/plain": [
              "True"
            ]
          },
          "metadata": {},
          "execution_count": 7
        }
      ]
    },
    {
      "cell_type": "code",
      "source": [
        "# DATASET\n",
        "DATASET_COLUMNS = [\"target\", \"ids\", \"date\", \"flag\", \"user\", \"text\"]\n",
        "DATASET_ENCODING = \"ISO-8859-1\"\n",
        "TRAIN_SIZE = 0.8\n",
        "\n",
        "# TEXT CLENAING\n",
        "TEXT_CLEANING_RE = \"@\\S+|https?:\\S+|http?:\\S|[^A-Za-z0-9]+\"\n",
        "\n",
        "# WORD2VEC \n",
        "W2V_SIZE = 300\n",
        "W2V_WINDOW = 7\n",
        "W2V_EPOCH = 32\n",
        "W2V_MIN_COUNT = 10\n",
        "\n",
        "# KERAS\n",
        "SEQUENCE_LENGTH = 300\n",
        "EPOCHS = 8\n",
        "BATCH_SIZE = 1024\n",
        "\n",
        "# SENTIMENT\n",
        "POSITIVE = \"POSITIVE\"\n",
        "NEGATIVE = \"NEGATIVE\"\n",
        "NEUTRAL = \"NEUTRAL\"\n",
        "SENTIMENT_THRESHOLDS = (0.4, 0.7)\n",
        "\n",
        "# EXPORT\n",
        "KERAS_MODEL = \"model.h5\"\n",
        "WORD2VEC_MODEL = \"model.w2v\"\n",
        "TOKENIZER_MODEL = \"tokenizer.pkl\"\n",
        "ENCODER_MODEL = \"encoder.pkl\""
      ],
      "metadata": {
        "id": "k4Mw7KTi4dry"
      },
      "execution_count": 8,
      "outputs": []
    },
    {
      "cell_type": "code",
      "source": [
        "df = pd.read_csv('twitterdata.csv', encoding =DATASET_ENCODING , names=DATASET_COLUMNS)\n"
      ],
      "metadata": {
        "id": "eqK1J4_d4h1M"
      },
      "execution_count": 9,
      "outputs": []
    },
    {
      "cell_type": "code",
      "source": [
        "print(\"Dataset size:\", len(df))"
      ],
      "metadata": {
        "colab": {
          "base_uri": "https://localhost:8080/"
        },
        "id": "s0Th0xkn49Po",
        "outputId": "d32cbf4f-17f3-4f31-e063-12f0f4a14cfa"
      },
      "execution_count": 10,
      "outputs": [
        {
          "output_type": "stream",
          "name": "stdout",
          "text": [
            "Dataset size: 1582\n"
          ]
        }
      ]
    },
    {
      "cell_type": "code",
      "source": [
        "df.head(5)"
      ],
      "metadata": {
        "colab": {
          "base_uri": "https://localhost:8080/",
          "height": 337
        },
        "id": "gkhCWjnP5Bc4",
        "outputId": "4b3bef78-8c91-4f02-b6ca-c9a68b3cc88c"
      },
      "execution_count": 11,
      "outputs": [
        {
          "output_type": "execute_result",
          "data": {
            "text/html": [
              "\n",
              "  <div id=\"df-00c8afd2-e422-4778-99cc-d81750b837e7\">\n",
              "    <div class=\"colab-df-container\">\n",
              "      <div>\n",
              "<style scoped>\n",
              "    .dataframe tbody tr th:only-of-type {\n",
              "        vertical-align: middle;\n",
              "    }\n",
              "\n",
              "    .dataframe tbody tr th {\n",
              "        vertical-align: top;\n",
              "    }\n",
              "\n",
              "    .dataframe thead th {\n",
              "        text-align: right;\n",
              "    }\n",
              "</style>\n",
              "<table border=\"1\" class=\"dataframe\">\n",
              "  <thead>\n",
              "    <tr style=\"text-align: right;\">\n",
              "      <th></th>\n",
              "      <th>target</th>\n",
              "      <th>ids</th>\n",
              "      <th>date</th>\n",
              "      <th>flag</th>\n",
              "      <th>user</th>\n",
              "      <th>text</th>\n",
              "    </tr>\n",
              "  </thead>\n",
              "  <tbody>\n",
              "    <tr>\n",
              "      <th>0</th>\n",
              "      <td>0</td>\n",
              "      <td>1467810369</td>\n",
              "      <td>Mon Apr 06 22:19:45 PDT 2009</td>\n",
              "      <td>NO_QUERY</td>\n",
              "      <td>_TheSpecialOne_</td>\n",
              "      <td>@switchfoot http://twitpic.com/2y1zl - Awww, t...</td>\n",
              "    </tr>\n",
              "    <tr>\n",
              "      <th>1</th>\n",
              "      <td>0</td>\n",
              "      <td>1467810672</td>\n",
              "      <td>Mon Apr 06 22:19:49 PDT 2009</td>\n",
              "      <td>NO_QUERY</td>\n",
              "      <td>scotthamilton</td>\n",
              "      <td>is upset that he can't update his Facebook by ...</td>\n",
              "    </tr>\n",
              "    <tr>\n",
              "      <th>2</th>\n",
              "      <td>0</td>\n",
              "      <td>1467810917</td>\n",
              "      <td>Mon Apr 06 22:19:53 PDT 2009</td>\n",
              "      <td>NO_QUERY</td>\n",
              "      <td>mattycus</td>\n",
              "      <td>@Kenichan I dived many times for the ball. Man...</td>\n",
              "    </tr>\n",
              "    <tr>\n",
              "      <th>3</th>\n",
              "      <td>0</td>\n",
              "      <td>1467811184</td>\n",
              "      <td>Mon Apr 06 22:19:57 PDT 2009</td>\n",
              "      <td>NO_QUERY</td>\n",
              "      <td>ElleCTF</td>\n",
              "      <td>my whole body feels itchy and like its on fire</td>\n",
              "    </tr>\n",
              "    <tr>\n",
              "      <th>4</th>\n",
              "      <td>0</td>\n",
              "      <td>1467811193</td>\n",
              "      <td>Mon Apr 06 22:19:57 PDT 2009</td>\n",
              "      <td>NO_QUERY</td>\n",
              "      <td>Karoli</td>\n",
              "      <td>@nationwideclass no, it's not behaving at all....</td>\n",
              "    </tr>\n",
              "  </tbody>\n",
              "</table>\n",
              "</div>\n",
              "      <button class=\"colab-df-convert\" onclick=\"convertToInteractive('df-00c8afd2-e422-4778-99cc-d81750b837e7')\"\n",
              "              title=\"Convert this dataframe to an interactive table.\"\n",
              "              style=\"display:none;\">\n",
              "        \n",
              "  <svg xmlns=\"http://www.w3.org/2000/svg\" height=\"24px\"viewBox=\"0 0 24 24\"\n",
              "       width=\"24px\">\n",
              "    <path d=\"M0 0h24v24H0V0z\" fill=\"none\"/>\n",
              "    <path d=\"M18.56 5.44l.94 2.06.94-2.06 2.06-.94-2.06-.94-.94-2.06-.94 2.06-2.06.94zm-11 1L8.5 8.5l.94-2.06 2.06-.94-2.06-.94L8.5 2.5l-.94 2.06-2.06.94zm10 10l.94 2.06.94-2.06 2.06-.94-2.06-.94-.94-2.06-.94 2.06-2.06.94z\"/><path d=\"M17.41 7.96l-1.37-1.37c-.4-.4-.92-.59-1.43-.59-.52 0-1.04.2-1.43.59L10.3 9.45l-7.72 7.72c-.78.78-.78 2.05 0 2.83L4 21.41c.39.39.9.59 1.41.59.51 0 1.02-.2 1.41-.59l7.78-7.78 2.81-2.81c.8-.78.8-2.07 0-2.86zM5.41 20L4 18.59l7.72-7.72 1.47 1.35L5.41 20z\"/>\n",
              "  </svg>\n",
              "      </button>\n",
              "      \n",
              "  <style>\n",
              "    .colab-df-container {\n",
              "      display:flex;\n",
              "      flex-wrap:wrap;\n",
              "      gap: 12px;\n",
              "    }\n",
              "\n",
              "    .colab-df-convert {\n",
              "      background-color: #E8F0FE;\n",
              "      border: none;\n",
              "      border-radius: 50%;\n",
              "      cursor: pointer;\n",
              "      display: none;\n",
              "      fill: #1967D2;\n",
              "      height: 32px;\n",
              "      padding: 0 0 0 0;\n",
              "      width: 32px;\n",
              "    }\n",
              "\n",
              "    .colab-df-convert:hover {\n",
              "      background-color: #E2EBFA;\n",
              "      box-shadow: 0px 1px 2px rgba(60, 64, 67, 0.3), 0px 1px 3px 1px rgba(60, 64, 67, 0.15);\n",
              "      fill: #174EA6;\n",
              "    }\n",
              "\n",
              "    [theme=dark] .colab-df-convert {\n",
              "      background-color: #3B4455;\n",
              "      fill: #D2E3FC;\n",
              "    }\n",
              "\n",
              "    [theme=dark] .colab-df-convert:hover {\n",
              "      background-color: #434B5C;\n",
              "      box-shadow: 0px 1px 3px 1px rgba(0, 0, 0, 0.15);\n",
              "      filter: drop-shadow(0px 1px 2px rgba(0, 0, 0, 0.3));\n",
              "      fill: #FFFFFF;\n",
              "    }\n",
              "  </style>\n",
              "\n",
              "      <script>\n",
              "        const buttonEl =\n",
              "          document.querySelector('#df-00c8afd2-e422-4778-99cc-d81750b837e7 button.colab-df-convert');\n",
              "        buttonEl.style.display =\n",
              "          google.colab.kernel.accessAllowed ? 'block' : 'none';\n",
              "\n",
              "        async function convertToInteractive(key) {\n",
              "          const element = document.querySelector('#df-00c8afd2-e422-4778-99cc-d81750b837e7');\n",
              "          const dataTable =\n",
              "            await google.colab.kernel.invokeFunction('convertToInteractive',\n",
              "                                                     [key], {});\n",
              "          if (!dataTable) return;\n",
              "\n",
              "          const docLinkHtml = 'Like what you see? Visit the ' +\n",
              "            '<a target=\"_blank\" href=https://colab.research.google.com/notebooks/data_table.ipynb>data table notebook</a>'\n",
              "            + ' to learn more about interactive tables.';\n",
              "          element.innerHTML = '';\n",
              "          dataTable['output_type'] = 'display_data';\n",
              "          await google.colab.output.renderOutput(dataTable, element);\n",
              "          const docLink = document.createElement('div');\n",
              "          docLink.innerHTML = docLinkHtml;\n",
              "          element.appendChild(docLink);\n",
              "        }\n",
              "      </script>\n",
              "    </div>\n",
              "  </div>\n",
              "  "
            ],
            "text/plain": [
              "   target  ...                                               text\n",
              "0       0  ...  @switchfoot http://twitpic.com/2y1zl - Awww, t...\n",
              "1       0  ...  is upset that he can't update his Facebook by ...\n",
              "2       0  ...  @Kenichan I dived many times for the ball. Man...\n",
              "3       0  ...    my whole body feels itchy and like its on fire \n",
              "4       0  ...  @nationwideclass no, it's not behaving at all....\n",
              "\n",
              "[5 rows x 6 columns]"
            ]
          },
          "metadata": {},
          "execution_count": 11
        }
      ]
    },
    {
      "cell_type": "code",
      "source": [
        "decode_map = {0: \"NEGATIVE\", 2: \"NEUTRAL\", 4: \"POSITIVE\"}\n",
        "def decode_sentiment(label):\n",
        "    return decode_map[int(label)]"
      ],
      "metadata": {
        "id": "E0d9CMik5FJE"
      },
      "execution_count": 12,
      "outputs": []
    },
    {
      "cell_type": "code",
      "source": [
        "%%time\n",
        "df.target = df.target.apply(lambda x: decode_sentiment(x))"
      ],
      "metadata": {
        "colab": {
          "base_uri": "https://localhost:8080/"
        },
        "id": "Z4uL24xL5KoC",
        "outputId": "d0c96c6c-8cae-46dc-fc77-3368e154ad1c"
      },
      "execution_count": 13,
      "outputs": [
        {
          "output_type": "stream",
          "name": "stdout",
          "text": [
            "CPU times: user 3.36 ms, sys: 0 ns, total: 3.36 ms\n",
            "Wall time: 3.96 ms\n"
          ]
        }
      ]
    },
    {
      "cell_type": "code",
      "source": [
        "target_cnt = Counter(df.target)\n",
        "\n",
        "plt.figure(figsize=(16,8))\n",
        "plt.bar(target_cnt.keys(), target_cnt.values())\n",
        "plt.title(\"Dataset labels distribuition\")"
      ],
      "metadata": {
        "colab": {
          "base_uri": "https://localhost:8080/",
          "height": 474
        },
        "id": "tZ3m1U3S5L86",
        "outputId": "a83f10a7-eb34-49b5-a2fb-70dfb9ea78b2"
      },
      "execution_count": 14,
      "outputs": [
        {
          "output_type": "execute_result",
          "data": {
            "text/plain": [
              "Text(0.5, 1.0, 'Dataset labels distribuition')"
            ]
          },
          "metadata": {},
          "execution_count": 14
        },
        {
          "output_type": "display_data",
          "data": {
            "image/png": "[encoded data removed]",
            "text/plain": [
              "<Figure size 1152x576 with 1 Axes>"
            ]
          },
          "metadata": {
            "needs_background": "light"
          }
        }
      ]
    },
    {
      "cell_type": "code",
      "source": [
        "stop_words = stopwords.words(\"english\")\n",
        "stemmer = SnowballStemmer(\"english\")"
      ],
      "metadata": {
        "id": "5ga7iSMJ5PLQ"
      },
      "execution_count": 15,
      "outputs": []
    },
    {
      "cell_type": "code",
      "source": [
        "def preprocess(text, stem=False):\n",
        "    # Remove link,user and special characters\n",
        "    text = re.sub(TEXT_CLEANING_RE, ' ', str(text).lower()).strip()\n",
        "    tokens = []\n",
        "    for token in text.split():\n",
        "        if token not in stop_words:\n",
        "            if stem:\n",
        "                tokens.append(stemmer.stem(token))\n",
        "            else:\n",
        "                tokens.append(token)\n",
        "    return \" \".join(tokens)"
      ],
      "metadata": {
        "id": "Y2a5c4ig5QeO"
      },
      "execution_count": 16,
      "outputs": []
    },
    {
      "cell_type": "code",
      "source": [
        "%%time\n",
        "df.text = df.text.apply(lambda x: preprocess(x))"
      ],
      "metadata": {
        "colab": {
          "base_uri": "https://localhost:8080/"
        },
        "id": "-K5OXxwk5R-o",
        "outputId": "328ffef4-b9a9-4c5a-9073-74c6b8f54361"
      },
      "execution_count": 17,
      "outputs": [
        {
          "output_type": "stream",
          "name": "stdout",
          "text": [
            "CPU times: user 71.6 ms, sys: 0 ns, total: 71.6 ms\n",
            "Wall time: 70.9 ms\n"
          ]
        }
      ]
    },
    {
      "cell_type": "code",
      "source": [
        "df_train, df_test = train_test_split(df, test_size=1-TRAIN_SIZE, random_state=42)\n",
        "print(\"TRAIN size:\", len(df_train))\n",
        "print(\"TEST size:\", len(df_test))"
      ],
      "metadata": {
        "colab": {
          "base_uri": "https://localhost:8080/"
        },
        "id": "fYbOHXR-5TQ-",
        "outputId": "c0595305-f54d-4dc4-e49c-e9ce8cabfc2d"
      },
      "execution_count": 18,
      "outputs": [
        {
          "output_type": "stream",
          "name": "stdout",
          "text": [
            "TRAIN size: 1265\n",
            "TEST size: 317\n"
          ]
        }
      ]
    },
    {
      "cell_type": "code",
      "source": [
        "%%time\n",
        "documents = [_text.split() for _text in df_train.text] "
      ],
      "metadata": {
        "colab": {
          "base_uri": "https://localhost:8080/"
        },
        "id": "ixbn4R6J5UhV",
        "outputId": "eecde0b6-0e8a-4ff3-8204-b3860c6231d9"
      },
      "execution_count": 19,
      "outputs": [
        {
          "output_type": "stream",
          "name": "stdout",
          "text": [
            "CPU times: user 3.47 ms, sys: 0 ns, total: 3.47 ms\n",
            "Wall time: 3.53 ms\n"
          ]
        }
      ]
    },
    {
      "cell_type": "code",
      "source": [
        "w2v_model = gensim.models.word2vec.Word2Vec(size=W2V_SIZE, \n",
        "                                            window=W2V_WINDOW, \n",
        "                                            min_count=W2V_MIN_COUNT, \n",
        "                                            workers=8)"
      ],
      "metadata": {
        "id": "1C8GCcEB5WUG"
      },
      "execution_count": 20,
      "outputs": []
    },
    {
      "cell_type": "code",
      "source": [
        "w2v_model.build_vocab(documents)"
      ],
      "metadata": {
        "colab": {
          "base_uri": "https://localhost:8080/"
        },
        "id": "Wjpl9KyB5Xky",
        "outputId": "a366ab6b-2f15-46f8-8b3a-d44e96ab76dc"
      },
      "execution_count": 21,
      "outputs": [
        {
          "output_type": "stream",
          "name": "stderr",
          "text": [
            "2022-01-16 13:39:47,093 : INFO : collecting all words and their counts\n",
            "2022-01-16 13:39:47,095 : INFO : PROGRESS: at sentence #0, processed 0 words, keeping 0 word types\n",
            "2022-01-16 13:39:47,108 : INFO : collected 3414 word types from a corpus of 9107 raw words and 1265 sentences\n",
            "2022-01-16 13:39:47,110 : INFO : Loading a fresh vocabulary\n",
            "2022-01-16 13:39:47,115 : INFO : effective_min_count=10 retains 159 unique words (4% of original 3414, drops 3255)\n",
            "2022-01-16 13:39:47,118 : INFO : effective_min_count=10 leaves 3477 word corpus (38% of original 9107, drops 5630)\n",
            "2022-01-16 13:39:47,122 : INFO : deleting the raw counts dictionary of 3414 items\n",
            "2022-01-16 13:39:47,123 : INFO : sample=0.001 downsamples 159 most-common words\n",
            "2022-01-16 13:39:47,125 : INFO : downsampling leaves estimated 1878 word corpus (54.0% of prior 3477)\n",
            "2022-01-16 13:39:47,127 : INFO : estimated required memory for 159 words and 300 dimensions: 461100 bytes\n",
            "2022-01-16 13:39:47,129 : INFO : resetting layer weights\n"
          ]
        }
      ]
    },
    {
      "cell_type": "code",
      "source": [
        "words = w2v_model.wv.vocab.keys()\n",
        "vocab_size = len(words)\n",
        "print(\"Vocab size\", vocab_size)"
      ],
      "metadata": {
        "colab": {
          "base_uri": "https://localhost:8080/"
        },
        "id": "hX_JlB1a5ZF5",
        "outputId": "7d641d0c-44eb-47af-a8bc-07c6a198940c"
      },
      "execution_count": 22,
      "outputs": [
        {
          "output_type": "stream",
          "name": "stdout",
          "text": [
            "Vocab size 159\n"
          ]
        }
      ]
    },
    {
      "cell_type": "code",
      "source": [
        "%%time\n",
        "w2v_model.train(documents, total_examples=len(documents), epochs=W2V_EPOCH)"
      ],
      "metadata": {
        "colab": {
          "base_uri": "https://localhost:8080/"
        },
        "id": "rthw3sMF5aYy",
        "outputId": "4338cbef-ad35-4f0e-a4f2-14d235aa903e"
      },
      "execution_count": 23,
      "outputs": [
        {
          "output_type": "stream",
          "name": "stderr",
          "text": [
            "2022-01-16 13:39:47,214 : INFO : training model with 8 workers on 159 vocabulary and 300 features, using sg=0 hs=0 sample=0.001 negative=5 window=7\n",
            "2022-01-16 13:39:47,225 : INFO : worker thread finished; awaiting finish of 7 more threads\n",
            "2022-01-16 13:39:47,228 : INFO : worker thread finished; awaiting finish of 6 more threads\n",
            "2022-01-16 13:39:47,229 : INFO : worker thread finished; awaiting finish of 5 more threads\n",
            "2022-01-16 13:39:47,232 : INFO : worker thread finished; awaiting finish of 4 more threads\n",
            "2022-01-16 13:39:47,238 : INFO : worker thread finished; awaiting finish of 3 more threads\n",
            "2022-01-16 13:39:47,240 : INFO : worker thread finished; awaiting finish of 2 more threads\n",
            "2022-01-16 13:39:47,242 : INFO : worker thread finished; awaiting finish of 1 more threads\n",
            "2022-01-16 13:39:47,243 : INFO : worker thread finished; awaiting finish of 0 more threads\n",
            "2022-01-16 13:39:47,244 : INFO : EPOCH - 1 : training on 9107 raw words (1809 effective words) took 0.0s, 81294 effective words/s\n",
            "2022-01-16 13:39:47,263 : INFO : worker thread finished; awaiting finish of 7 more threads\n",
            "2022-01-16 13:39:47,265 : INFO : worker thread finished; awaiting finish of 6 more threads\n",
            "2022-01-16 13:39:47,268 : INFO : worker thread finished; awaiting finish of 5 more threads\n",
            "2022-01-16 13:39:47,271 : INFO : worker thread finished; awaiting finish of 4 more threads\n",
            "2022-01-16 13:39:47,273 : INFO : worker thread finished; awaiting finish of 3 more threads\n",
            "2022-01-16 13:39:47,276 : INFO : worker thread finished; awaiting finish of 2 more threads\n",
            "2022-01-16 13:39:47,278 : INFO : worker thread finished; awaiting finish of 1 more threads\n",
            "2022-01-16 13:39:47,280 : INFO : worker thread finished; awaiting finish of 0 more threads\n",
            "2022-01-16 13:39:47,282 : INFO : EPOCH - 2 : training on 9107 raw words (1866 effective words) took 0.0s, 81231 effective words/s\n",
            "2022-01-16 13:39:47,301 : INFO : worker thread finished; awaiting finish of 7 more threads\n",
            "2022-01-16 13:39:47,303 : INFO : worker thread finished; awaiting finish of 6 more threads\n",
            "2022-01-16 13:39:47,304 : INFO : worker thread finished; awaiting finish of 5 more threads\n",
            "2022-01-16 13:39:47,308 : INFO : worker thread finished; awaiting finish of 4 more threads\n",
            "2022-01-16 13:39:47,310 : INFO : worker thread finished; awaiting finish of 3 more threads\n",
            "2022-01-16 13:39:47,311 : INFO : worker thread finished; awaiting finish of 2 more threads\n",
            "2022-01-16 13:39:47,313 : INFO : worker thread finished; awaiting finish of 1 more threads\n",
            "2022-01-16 13:39:47,315 : INFO : worker thread finished; awaiting finish of 0 more threads\n",
            "2022-01-16 13:39:47,316 : INFO : EPOCH - 3 : training on 9107 raw words (1867 effective words) took 0.0s, 101431 effective words/s\n",
            "2022-01-16 13:39:47,338 : INFO : worker thread finished; awaiting finish of 7 more threads\n",
            "2022-01-16 13:39:47,345 : INFO : worker thread finished; awaiting finish of 6 more threads\n",
            "2022-01-16 13:39:47,346 : INFO : worker thread finished; awaiting finish of 5 more threads\n",
            "2022-01-16 13:39:47,348 : INFO : worker thread finished; awaiting finish of 4 more threads\n",
            "2022-01-16 13:39:47,352 : INFO : worker thread finished; awaiting finish of 3 more threads\n",
            "2022-01-16 13:39:47,357 : INFO : worker thread finished; awaiting finish of 2 more threads\n",
            "2022-01-16 13:39:47,359 : INFO : worker thread finished; awaiting finish of 1 more threads\n",
            "2022-01-16 13:39:47,362 : INFO : worker thread finished; awaiting finish of 0 more threads\n",
            "2022-01-16 13:39:47,368 : INFO : EPOCH - 4 : training on 9107 raw words (1852 effective words) took 0.0s, 50559 effective words/s\n",
            "2022-01-16 13:39:47,394 : INFO : worker thread finished; awaiting finish of 7 more threads\n",
            "2022-01-16 13:39:47,397 : INFO : worker thread finished; awaiting finish of 6 more threads\n",
            "2022-01-16 13:39:47,404 : INFO : worker thread finished; awaiting finish of 5 more threads\n",
            "2022-01-16 13:39:47,407 : INFO : worker thread finished; awaiting finish of 4 more threads\n",
            "2022-01-16 13:39:47,409 : INFO : worker thread finished; awaiting finish of 3 more threads\n",
            "2022-01-16 13:39:47,410 : INFO : worker thread finished; awaiting finish of 2 more threads\n",
            "2022-01-16 13:39:47,411 : INFO : worker thread finished; awaiting finish of 1 more threads\n",
            "2022-01-16 13:39:47,412 : INFO : worker thread finished; awaiting finish of 0 more threads\n",
            "2022-01-16 13:39:47,413 : INFO : EPOCH - 5 : training on 9107 raw words (1910 effective words) took 0.0s, 84612 effective words/s\n",
            "2022-01-16 13:39:47,439 : INFO : worker thread finished; awaiting finish of 7 more threads\n",
            "2022-01-16 13:39:47,442 : INFO : worker thread finished; awaiting finish of 6 more threads\n",
            "2022-01-16 13:39:47,443 : INFO : worker thread finished; awaiting finish of 5 more threads\n",
            "2022-01-16 13:39:47,449 : INFO : worker thread finished; awaiting finish of 4 more threads\n",
            "2022-01-16 13:39:47,450 : INFO : worker thread finished; awaiting finish of 3 more threads\n",
            "2022-01-16 13:39:47,452 : INFO : worker thread finished; awaiting finish of 2 more threads\n",
            "2022-01-16 13:39:47,453 : INFO : worker thread finished; awaiting finish of 1 more threads\n",
            "2022-01-16 13:39:47,454 : INFO : worker thread finished; awaiting finish of 0 more threads\n",
            "2022-01-16 13:39:47,456 : INFO : EPOCH - 6 : training on 9107 raw words (1890 effective words) took 0.0s, 75133 effective words/s\n",
            "2022-01-16 13:39:47,480 : INFO : worker thread finished; awaiting finish of 7 more threads\n",
            "2022-01-16 13:39:47,483 : INFO : worker thread finished; awaiting finish of 6 more threads\n",
            "2022-01-16 13:39:47,486 : INFO : worker thread finished; awaiting finish of 5 more threads\n",
            "2022-01-16 13:39:47,488 : INFO : worker thread finished; awaiting finish of 4 more threads\n",
            "2022-01-16 13:39:47,489 : INFO : worker thread finished; awaiting finish of 3 more threads\n",
            "2022-01-16 13:39:47,491 : INFO : worker thread finished; awaiting finish of 2 more threads\n",
            "2022-01-16 13:39:47,492 : INFO : worker thread finished; awaiting finish of 1 more threads\n",
            "2022-01-16 13:39:47,494 : INFO : worker thread finished; awaiting finish of 0 more threads\n",
            "2022-01-16 13:39:47,495 : INFO : EPOCH - 7 : training on 9107 raw words (1866 effective words) took 0.0s, 100074 effective words/s\n",
            "2022-01-16 13:39:47,513 : INFO : worker thread finished; awaiting finish of 7 more threads\n",
            "2022-01-16 13:39:47,514 : INFO : worker thread finished; awaiting finish of 6 more threads\n",
            "2022-01-16 13:39:47,517 : INFO : worker thread finished; awaiting finish of 5 more threads\n",
            "2022-01-16 13:39:47,521 : INFO : worker thread finished; awaiting finish of 4 more threads\n",
            "2022-01-16 13:39:47,524 : INFO : worker thread finished; awaiting finish of 3 more threads\n",
            "2022-01-16 13:39:47,525 : INFO : worker thread finished; awaiting finish of 2 more threads\n",
            "2022-01-16 13:39:47,526 : INFO : worker thread finished; awaiting finish of 1 more threads\n",
            "2022-01-16 13:39:47,528 : INFO : worker thread finished; awaiting finish of 0 more threads\n",
            "2022-01-16 13:39:47,529 : INFO : EPOCH - 8 : training on 9107 raw words (1935 effective words) took 0.0s, 102798 effective words/s\n",
            "2022-01-16 13:39:47,544 : INFO : worker thread finished; awaiting finish of 7 more threads\n",
            "2022-01-16 13:39:47,546 : INFO : worker thread finished; awaiting finish of 6 more threads\n",
            "2022-01-16 13:39:47,549 : INFO : worker thread finished; awaiting finish of 5 more threads\n",
            "2022-01-16 13:39:47,553 : INFO : worker thread finished; awaiting finish of 4 more threads\n",
            "2022-01-16 13:39:47,554 : INFO : worker thread finished; awaiting finish of 3 more threads\n",
            "2022-01-16 13:39:47,556 : INFO : worker thread finished; awaiting finish of 2 more threads\n",
            "2022-01-16 13:39:47,559 : INFO : worker thread finished; awaiting finish of 1 more threads\n",
            "2022-01-16 13:39:47,561 : INFO : worker thread finished; awaiting finish of 0 more threads\n",
            "2022-01-16 13:39:47,562 : INFO : EPOCH - 9 : training on 9107 raw words (1899 effective words) took 0.0s, 93905 effective words/s\n",
            "2022-01-16 13:39:47,576 : INFO : worker thread finished; awaiting finish of 7 more threads\n",
            "2022-01-16 13:39:47,580 : INFO : worker thread finished; awaiting finish of 6 more threads\n",
            "2022-01-16 13:39:47,582 : INFO : worker thread finished; awaiting finish of 5 more threads\n",
            "2022-01-16 13:39:47,583 : INFO : worker thread finished; awaiting finish of 4 more threads\n",
            "2022-01-16 13:39:47,584 : INFO : worker thread finished; awaiting finish of 3 more threads\n",
            "2022-01-16 13:39:47,585 : INFO : worker thread finished; awaiting finish of 2 more threads\n",
            "2022-01-16 13:39:47,588 : INFO : worker thread finished; awaiting finish of 1 more threads\n",
            "2022-01-16 13:39:47,589 : INFO : worker thread finished; awaiting finish of 0 more threads\n",
            "2022-01-16 13:39:47,590 : INFO : EPOCH - 10 : training on 9107 raw words (1904 effective words) took 0.0s, 105571 effective words/s\n",
            "2022-01-16 13:39:47,610 : INFO : worker thread finished; awaiting finish of 7 more threads\n",
            "2022-01-16 13:39:47,613 : INFO : worker thread finished; awaiting finish of 6 more threads\n",
            "2022-01-16 13:39:47,614 : INFO : worker thread finished; awaiting finish of 5 more threads\n",
            "2022-01-16 13:39:47,615 : INFO : worker thread finished; awaiting finish of 4 more threads\n",
            "2022-01-16 13:39:47,616 : INFO : worker thread finished; awaiting finish of 3 more threads\n",
            "2022-01-16 13:39:47,618 : INFO : worker thread finished; awaiting finish of 2 more threads\n",
            "2022-01-16 13:39:47,620 : INFO : worker thread finished; awaiting finish of 1 more threads\n",
            "2022-01-16 13:39:47,621 : INFO : worker thread finished; awaiting finish of 0 more threads\n",
            "2022-01-16 13:39:47,622 : INFO : EPOCH - 11 : training on 9107 raw words (1919 effective words) took 0.0s, 100030 effective words/s\n",
            "2022-01-16 13:39:47,644 : INFO : worker thread finished; awaiting finish of 7 more threads\n",
            "2022-01-16 13:39:47,647 : INFO : worker thread finished; awaiting finish of 6 more threads\n",
            "2022-01-16 13:39:47,651 : INFO : worker thread finished; awaiting finish of 5 more threads\n",
            "2022-01-16 13:39:47,657 : INFO : worker thread finished; awaiting finish of 4 more threads\n",
            "2022-01-16 13:39:47,658 : INFO : worker thread finished; awaiting finish of 3 more threads\n",
            "2022-01-16 13:39:47,660 : INFO : worker thread finished; awaiting finish of 2 more threads\n",
            "2022-01-16 13:39:47,662 : INFO : worker thread finished; awaiting finish of 1 more threads\n",
            "2022-01-16 13:39:47,664 : INFO : worker thread finished; awaiting finish of 0 more threads\n",
            "2022-01-16 13:39:47,671 : INFO : EPOCH - 12 : training on 9107 raw words (1821 effective words) took 0.0s, 60802 effective words/s\n",
            "2022-01-16 13:39:47,693 : INFO : worker thread finished; awaiting finish of 7 more threads\n",
            "2022-01-16 13:39:47,703 : INFO : worker thread finished; awaiting finish of 6 more threads\n",
            "2022-01-16 13:39:47,706 : INFO : worker thread finished; awaiting finish of 5 more threads\n",
            "2022-01-16 13:39:47,707 : INFO : worker thread finished; awaiting finish of 4 more threads\n",
            "2022-01-16 13:39:47,710 : INFO : worker thread finished; awaiting finish of 3 more threads\n",
            "2022-01-16 13:39:47,711 : INFO : worker thread finished; awaiting finish of 2 more threads\n",
            "2022-01-16 13:39:47,712 : INFO : worker thread finished; awaiting finish of 1 more threads\n",
            "2022-01-16 13:39:47,713 : INFO : worker thread finished; awaiting finish of 0 more threads\n",
            "2022-01-16 13:39:47,714 : INFO : EPOCH - 13 : training on 9107 raw words (1908 effective words) took 0.0s, 76313 effective words/s\n",
            "2022-01-16 13:39:47,742 : INFO : worker thread finished; awaiting finish of 7 more threads\n",
            "2022-01-16 13:39:47,753 : INFO : worker thread finished; awaiting finish of 6 more threads\n",
            "2022-01-16 13:39:47,757 : INFO : worker thread finished; awaiting finish of 5 more threads\n",
            "2022-01-16 13:39:47,759 : INFO : worker thread finished; awaiting finish of 4 more threads\n",
            "2022-01-16 13:39:47,761 : INFO : worker thread finished; awaiting finish of 3 more threads\n",
            "2022-01-16 13:39:47,763 : INFO : worker thread finished; awaiting finish of 2 more threads\n",
            "2022-01-16 13:39:47,765 : INFO : worker thread finished; awaiting finish of 1 more threads\n",
            "2022-01-16 13:39:47,766 : INFO : worker thread finished; awaiting finish of 0 more threads\n",
            "2022-01-16 13:39:47,769 : INFO : EPOCH - 14 : training on 9107 raw words (1892 effective words) took 0.0s, 61521 effective words/s\n",
            "2022-01-16 13:39:47,789 : INFO : worker thread finished; awaiting finish of 7 more threads\n",
            "2022-01-16 13:39:47,793 : INFO : worker thread finished; awaiting finish of 6 more threads\n",
            "2022-01-16 13:39:47,796 : INFO : worker thread finished; awaiting finish of 5 more threads\n",
            "2022-01-16 13:39:47,798 : INFO : worker thread finished; awaiting finish of 4 more threads\n",
            "2022-01-16 13:39:47,800 : INFO : worker thread finished; awaiting finish of 3 more threads\n",
            "2022-01-16 13:39:47,801 : INFO : worker thread finished; awaiting finish of 2 more threads\n",
            "2022-01-16 13:39:47,802 : INFO : worker thread finished; awaiting finish of 1 more threads\n",
            "2022-01-16 13:39:47,803 : INFO : worker thread finished; awaiting finish of 0 more threads\n",
            "2022-01-16 13:39:47,805 : INFO : EPOCH - 15 : training on 9107 raw words (1880 effective words) took 0.0s, 102178 effective words/s\n",
            "2022-01-16 13:39:47,825 : INFO : worker thread finished; awaiting finish of 7 more threads\n",
            "2022-01-16 13:39:47,831 : INFO : worker thread finished; awaiting finish of 6 more threads\n",
            "2022-01-16 13:39:47,838 : INFO : worker thread finished; awaiting finish of 5 more threads\n",
            "2022-01-16 13:39:47,843 : INFO : worker thread finished; awaiting finish of 4 more threads\n",
            "2022-01-16 13:39:47,844 : INFO : worker thread finished; awaiting finish of 3 more threads\n",
            "2022-01-16 13:39:47,845 : INFO : worker thread finished; awaiting finish of 2 more threads\n",
            "2022-01-16 13:39:47,847 : INFO : worker thread finished; awaiting finish of 1 more threads\n",
            "2022-01-16 13:39:47,848 : INFO : worker thread finished; awaiting finish of 0 more threads\n",
            "2022-01-16 13:39:47,849 : INFO : EPOCH - 16 : training on 9107 raw words (1930 effective words) took 0.0s, 64581 effective words/s\n",
            "2022-01-16 13:39:47,863 : INFO : worker thread finished; awaiting finish of 7 more threads\n",
            "2022-01-16 13:39:47,867 : INFO : worker thread finished; awaiting finish of 6 more threads\n",
            "2022-01-16 13:39:47,869 : INFO : worker thread finished; awaiting finish of 5 more threads\n",
            "2022-01-16 13:39:47,876 : INFO : worker thread finished; awaiting finish of 4 more threads\n",
            "2022-01-16 13:39:47,880 : INFO : worker thread finished; awaiting finish of 3 more threads\n",
            "2022-01-16 13:39:47,881 : INFO : worker thread finished; awaiting finish of 2 more threads\n",
            "2022-01-16 13:39:47,882 : INFO : worker thread finished; awaiting finish of 1 more threads\n",
            "2022-01-16 13:39:47,884 : INFO : worker thread finished; awaiting finish of 0 more threads\n",
            "2022-01-16 13:39:47,885 : INFO : EPOCH - 17 : training on 9107 raw words (1960 effective words) took 0.0s, 82456 effective words/s\n",
            "2022-01-16 13:39:47,900 : INFO : worker thread finished; awaiting finish of 7 more threads\n",
            "2022-01-16 13:39:47,906 : INFO : worker thread finished; awaiting finish of 6 more threads\n",
            "2022-01-16 13:39:47,907 : INFO : worker thread finished; awaiting finish of 5 more threads\n",
            "2022-01-16 13:39:47,908 : INFO : worker thread finished; awaiting finish of 4 more threads\n",
            "2022-01-16 13:39:47,910 : INFO : worker thread finished; awaiting finish of 3 more threads\n",
            "2022-01-16 13:39:47,912 : INFO : worker thread finished; awaiting finish of 2 more threads\n",
            "2022-01-16 13:39:47,913 : INFO : worker thread finished; awaiting finish of 1 more threads\n",
            "2022-01-16 13:39:47,914 : INFO : worker thread finished; awaiting finish of 0 more threads\n",
            "2022-01-16 13:39:47,915 : INFO : EPOCH - 18 : training on 9107 raw words (1907 effective words) took 0.0s, 103650 effective words/s\n",
            "2022-01-16 13:39:47,931 : INFO : worker thread finished; awaiting finish of 7 more threads\n",
            "2022-01-16 13:39:47,934 : INFO : worker thread finished; awaiting finish of 6 more threads\n",
            "2022-01-16 13:39:47,935 : INFO : worker thread finished; awaiting finish of 5 more threads\n",
            "2022-01-16 13:39:47,940 : INFO : worker thread finished; awaiting finish of 4 more threads\n",
            "2022-01-16 13:39:47,942 : INFO : worker thread finished; awaiting finish of 3 more threads\n",
            "2022-01-16 13:39:47,944 : INFO : worker thread finished; awaiting finish of 2 more threads\n",
            "2022-01-16 13:39:47,946 : INFO : worker thread finished; awaiting finish of 1 more threads\n",
            "2022-01-16 13:39:47,948 : INFO : worker thread finished; awaiting finish of 0 more threads\n",
            "2022-01-16 13:39:47,949 : INFO : EPOCH - 19 : training on 9107 raw words (1910 effective words) took 0.0s, 90104 effective words/s\n",
            "2022-01-16 13:39:47,966 : INFO : worker thread finished; awaiting finish of 7 more threads\n",
            "2022-01-16 13:39:47,973 : INFO : worker thread finished; awaiting finish of 6 more threads\n",
            "2022-01-16 13:39:47,975 : INFO : worker thread finished; awaiting finish of 5 more threads\n",
            "2022-01-16 13:39:47,976 : INFO : worker thread finished; awaiting finish of 4 more threads\n",
            "2022-01-16 13:39:47,977 : INFO : worker thread finished; awaiting finish of 3 more threads\n",
            "2022-01-16 13:39:47,979 : INFO : worker thread finished; awaiting finish of 2 more threads\n",
            "2022-01-16 13:39:47,981 : INFO : worker thread finished; awaiting finish of 1 more threads\n",
            "2022-01-16 13:39:47,982 : INFO : worker thread finished; awaiting finish of 0 more threads\n",
            "2022-01-16 13:39:47,983 : INFO : EPOCH - 20 : training on 9107 raw words (1873 effective words) took 0.0s, 94935 effective words/s\n",
            "2022-01-16 13:39:48,001 : INFO : worker thread finished; awaiting finish of 7 more threads\n",
            "2022-01-16 13:39:48,009 : INFO : worker thread finished; awaiting finish of 6 more threads\n",
            "2022-01-16 13:39:48,022 : INFO : worker thread finished; awaiting finish of 5 more threads\n",
            "2022-01-16 13:39:48,024 : INFO : worker thread finished; awaiting finish of 4 more threads\n",
            "2022-01-16 13:39:48,025 : INFO : worker thread finished; awaiting finish of 3 more threads\n",
            "2022-01-16 13:39:48,027 : INFO : worker thread finished; awaiting finish of 2 more threads\n",
            "2022-01-16 13:39:48,029 : INFO : worker thread finished; awaiting finish of 1 more threads\n",
            "2022-01-16 13:39:48,031 : INFO : worker thread finished; awaiting finish of 0 more threads\n",
            "2022-01-16 13:39:48,033 : INFO : EPOCH - 21 : training on 9107 raw words (1838 effective words) took 0.0s, 50375 effective words/s\n",
            "2022-01-16 13:39:48,047 : INFO : worker thread finished; awaiting finish of 7 more threads\n",
            "2022-01-16 13:39:48,054 : INFO : worker thread finished; awaiting finish of 6 more threads\n",
            "2022-01-16 13:39:48,056 : INFO : worker thread finished; awaiting finish of 5 more threads\n",
            "2022-01-16 13:39:48,059 : INFO : worker thread finished; awaiting finish of 4 more threads\n",
            "2022-01-16 13:39:48,060 : INFO : worker thread finished; awaiting finish of 3 more threads\n",
            "2022-01-16 13:39:48,062 : INFO : worker thread finished; awaiting finish of 2 more threads\n",
            "2022-01-16 13:39:48,064 : INFO : worker thread finished; awaiting finish of 1 more threads\n",
            "2022-01-16 13:39:48,065 : INFO : worker thread finished; awaiting finish of 0 more threads\n",
            "2022-01-16 13:39:48,068 : INFO : EPOCH - 22 : training on 9107 raw words (1900 effective words) took 0.0s, 81241 effective words/s\n",
            "2022-01-16 13:39:48,095 : INFO : worker thread finished; awaiting finish of 7 more threads\n",
            "2022-01-16 13:39:48,099 : INFO : worker thread finished; awaiting finish of 6 more threads\n",
            "2022-01-16 13:39:48,102 : INFO : worker thread finished; awaiting finish of 5 more threads\n",
            "2022-01-16 13:39:48,104 : INFO : worker thread finished; awaiting finish of 4 more threads\n",
            "2022-01-16 13:39:48,106 : INFO : worker thread finished; awaiting finish of 3 more threads\n",
            "2022-01-16 13:39:48,108 : INFO : worker thread finished; awaiting finish of 2 more threads\n",
            "2022-01-16 13:39:48,109 : INFO : worker thread finished; awaiting finish of 1 more threads\n",
            "2022-01-16 13:39:48,114 : INFO : worker thread finished; awaiting finish of 0 more threads\n",
            "2022-01-16 13:39:48,116 : INFO : EPOCH - 23 : training on 9107 raw words (1885 effective words) took 0.0s, 63589 effective words/s\n",
            "2022-01-16 13:39:48,140 : INFO : worker thread finished; awaiting finish of 7 more threads\n",
            "2022-01-16 13:39:48,142 : INFO : worker thread finished; awaiting finish of 6 more threads\n",
            "2022-01-16 13:39:48,149 : INFO : worker thread finished; awaiting finish of 5 more threads\n",
            "2022-01-16 13:39:48,150 : INFO : worker thread finished; awaiting finish of 4 more threads\n",
            "2022-01-16 13:39:48,151 : INFO : worker thread finished; awaiting finish of 3 more threads\n",
            "2022-01-16 13:39:48,152 : INFO : worker thread finished; awaiting finish of 2 more threads\n",
            "2022-01-16 13:39:48,153 : INFO : worker thread finished; awaiting finish of 1 more threads\n",
            "2022-01-16 13:39:48,155 : INFO : worker thread finished; awaiting finish of 0 more threads\n",
            "2022-01-16 13:39:48,156 : INFO : EPOCH - 24 : training on 9107 raw words (1896 effective words) took 0.0s, 100200 effective words/s\n",
            "2022-01-16 13:39:48,171 : INFO : worker thread finished; awaiting finish of 7 more threads\n",
            "2022-01-16 13:39:48,174 : INFO : worker thread finished; awaiting finish of 6 more threads\n",
            "2022-01-16 13:39:48,182 : INFO : worker thread finished; awaiting finish of 5 more threads\n",
            "2022-01-16 13:39:48,183 : INFO : worker thread finished; awaiting finish of 4 more threads\n",
            "2022-01-16 13:39:48,185 : INFO : worker thread finished; awaiting finish of 3 more threads\n",
            "2022-01-16 13:39:48,186 : INFO : worker thread finished; awaiting finish of 2 more threads\n",
            "2022-01-16 13:39:48,187 : INFO : worker thread finished; awaiting finish of 1 more threads\n",
            "2022-01-16 13:39:48,189 : INFO : worker thread finished; awaiting finish of 0 more threads\n",
            "2022-01-16 13:39:48,190 : INFO : EPOCH - 25 : training on 9107 raw words (1860 effective words) took 0.0s, 87009 effective words/s\n",
            "2022-01-16 13:39:48,206 : INFO : worker thread finished; awaiting finish of 7 more threads\n",
            "2022-01-16 13:39:48,214 : INFO : worker thread finished; awaiting finish of 6 more threads\n",
            "2022-01-16 13:39:48,216 : INFO : worker thread finished; awaiting finish of 5 more threads\n",
            "2022-01-16 13:39:48,217 : INFO : worker thread finished; awaiting finish of 4 more threads\n",
            "2022-01-16 13:39:48,218 : INFO : worker thread finished; awaiting finish of 3 more threads\n",
            "2022-01-16 13:39:48,220 : INFO : worker thread finished; awaiting finish of 2 more threads\n",
            "2022-01-16 13:39:48,222 : INFO : worker thread finished; awaiting finish of 1 more threads\n",
            "2022-01-16 13:39:48,223 : INFO : worker thread finished; awaiting finish of 0 more threads\n",
            "2022-01-16 13:39:48,224 : INFO : EPOCH - 26 : training on 9107 raw words (1853 effective words) took 0.0s, 85424 effective words/s\n",
            "2022-01-16 13:39:48,245 : INFO : worker thread finished; awaiting finish of 7 more threads\n",
            "2022-01-16 13:39:48,248 : INFO : worker thread finished; awaiting finish of 6 more threads\n",
            "2022-01-16 13:39:48,250 : INFO : worker thread finished; awaiting finish of 5 more threads\n",
            "2022-01-16 13:39:48,251 : INFO : worker thread finished; awaiting finish of 4 more threads\n",
            "2022-01-16 13:39:48,252 : INFO : worker thread finished; awaiting finish of 3 more threads\n",
            "2022-01-16 13:39:48,254 : INFO : worker thread finished; awaiting finish of 2 more threads\n",
            "2022-01-16 13:39:48,255 : INFO : worker thread finished; awaiting finish of 1 more threads\n",
            "2022-01-16 13:39:48,256 : INFO : worker thread finished; awaiting finish of 0 more threads\n",
            "2022-01-16 13:39:48,258 : INFO : EPOCH - 27 : training on 9107 raw words (1925 effective words) took 0.0s, 101014 effective words/s\n",
            "2022-01-16 13:39:48,285 : INFO : worker thread finished; awaiting finish of 7 more threads\n",
            "2022-01-16 13:39:48,288 : INFO : worker thread finished; awaiting finish of 6 more threads\n",
            "2022-01-16 13:39:48,289 : INFO : worker thread finished; awaiting finish of 5 more threads\n",
            "2022-01-16 13:39:48,291 : INFO : worker thread finished; awaiting finish of 4 more threads\n",
            "2022-01-16 13:39:48,292 : INFO : worker thread finished; awaiting finish of 3 more threads\n",
            "2022-01-16 13:39:48,297 : INFO : worker thread finished; awaiting finish of 2 more threads\n",
            "2022-01-16 13:39:48,298 : INFO : worker thread finished; awaiting finish of 1 more threads\n",
            "2022-01-16 13:39:48,306 : INFO : worker thread finished; awaiting finish of 0 more threads\n",
            "2022-01-16 13:39:48,307 : INFO : EPOCH - 28 : training on 9107 raw words (1889 effective words) took 0.0s, 80519 effective words/s\n",
            "2022-01-16 13:39:48,323 : INFO : worker thread finished; awaiting finish of 7 more threads\n",
            "2022-01-16 13:39:48,333 : INFO : worker thread finished; awaiting finish of 6 more threads\n",
            "2022-01-16 13:39:48,336 : INFO : worker thread finished; awaiting finish of 5 more threads\n",
            "2022-01-16 13:39:48,338 : INFO : worker thread finished; awaiting finish of 4 more threads\n",
            "2022-01-16 13:39:48,339 : INFO : worker thread finished; awaiting finish of 3 more threads\n",
            "2022-01-16 13:39:48,341 : INFO : worker thread finished; awaiting finish of 2 more threads\n",
            "2022-01-16 13:39:48,342 : INFO : worker thread finished; awaiting finish of 1 more threads\n",
            "2022-01-16 13:39:48,343 : INFO : worker thread finished; awaiting finish of 0 more threads\n",
            "2022-01-16 13:39:48,345 : INFO : EPOCH - 29 : training on 9107 raw words (1860 effective words) took 0.0s, 62167 effective words/s\n",
            "2022-01-16 13:39:48,360 : INFO : worker thread finished; awaiting finish of 7 more threads\n",
            "2022-01-16 13:39:48,364 : INFO : worker thread finished; awaiting finish of 6 more threads\n",
            "2022-01-16 13:39:48,371 : INFO : worker thread finished; awaiting finish of 5 more threads\n",
            "2022-01-16 13:39:48,372 : INFO : worker thread finished; awaiting finish of 4 more threads\n",
            "2022-01-16 13:39:48,373 : INFO : worker thread finished; awaiting finish of 3 more threads\n",
            "2022-01-16 13:39:48,375 : INFO : worker thread finished; awaiting finish of 2 more threads\n",
            "2022-01-16 13:39:48,381 : INFO : worker thread finished; awaiting finish of 1 more threads\n",
            "2022-01-16 13:39:48,382 : INFO : worker thread finished; awaiting finish of 0 more threads\n",
            "2022-01-16 13:39:48,385 : INFO : EPOCH - 30 : training on 9107 raw words (1889 effective words) took 0.0s, 69600 effective words/s\n",
            "2022-01-16 13:39:48,399 : INFO : worker thread finished; awaiting finish of 7 more threads\n",
            "2022-01-16 13:39:48,402 : INFO : worker thread finished; awaiting finish of 6 more threads\n",
            "2022-01-16 13:39:48,408 : INFO : worker thread finished; awaiting finish of 5 more threads\n",
            "2022-01-16 13:39:48,410 : INFO : worker thread finished; awaiting finish of 4 more threads\n",
            "2022-01-16 13:39:48,411 : INFO : worker thread finished; awaiting finish of 3 more threads\n",
            "2022-01-16 13:39:48,412 : INFO : worker thread finished; awaiting finish of 2 more threads\n",
            "2022-01-16 13:39:48,414 : INFO : worker thread finished; awaiting finish of 1 more threads\n",
            "2022-01-16 13:39:48,415 : INFO : worker thread finished; awaiting finish of 0 more threads\n",
            "2022-01-16 13:39:48,416 : INFO : EPOCH - 31 : training on 9107 raw words (1900 effective words) took 0.0s, 98437 effective words/s\n",
            "2022-01-16 13:39:48,444 : INFO : worker thread finished; awaiting finish of 7 more threads\n",
            "2022-01-16 13:39:48,458 : INFO : worker thread finished; awaiting finish of 6 more threads\n",
            "2022-01-16 13:39:48,460 : INFO : worker thread finished; awaiting finish of 5 more threads\n",
            "2022-01-16 13:39:48,462 : INFO : worker thread finished; awaiting finish of 4 more threads\n",
            "2022-01-16 13:39:48,463 : INFO : worker thread finished; awaiting finish of 3 more threads\n",
            "2022-01-16 13:39:48,467 : INFO : worker thread finished; awaiting finish of 2 more threads\n",
            "2022-01-16 13:39:48,468 : INFO : worker thread finished; awaiting finish of 1 more threads\n",
            "2022-01-16 13:39:48,470 : INFO : worker thread finished; awaiting finish of 0 more threads\n",
            "2022-01-16 13:39:48,471 : INFO : EPOCH - 32 : training on 9107 raw words (1832 effective words) took 0.0s, 59970 effective words/s\n",
            "2022-01-16 13:39:48,473 : INFO : training on a 291424 raw words (60325 effective words) took 1.3s, 48003 effective words/s\n",
            "2022-01-16 13:39:48,474 : WARNING : under 10 jobs per worker: consider setting a smaller `batch_words' for smoother alpha decay\n"
          ]
        },
        {
          "output_type": "stream",
          "name": "stdout",
          "text": [
            "CPU times: user 931 ms, sys: 113 ms, total: 1.04 s\n",
            "Wall time: 1.26 s\n"
          ]
        },
        {
          "output_type": "execute_result",
          "data": {
            "text/plain": [
              "(60325, 291424)"
            ]
          },
          "metadata": {},
          "execution_count": 23
        }
      ]
    },
    {
      "cell_type": "code",
      "source": [
        "w2v_model.most_similar(\"love\")"
      ],
      "metadata": {
        "colab": {
          "base_uri": "https://localhost:8080/"
        },
        "id": "wONnBeL85bpL",
        "outputId": "cdeefb4d-ed50-429b-91bf-5d518afc3062"
      },
      "execution_count": 24,
      "outputs": [
        {
          "output_type": "stream",
          "name": "stderr",
          "text": [
            "/usr/local/lib/python3.7/dist-packages/ipykernel_launcher.py:1: DeprecationWarning: Call to deprecated `most_similar` (Method will be removed in 4.0.0, use self.wv.most_similar() instead).\n",
            "  \"\"\"Entry point for launching an IPython kernel.\n",
            "2022-01-16 13:39:48,492 : INFO : precomputing L2-norms of word weight vectors\n"
          ]
        },
        {
          "output_type": "execute_result",
          "data": {
            "text/plain": [
              "[('though', 0.9998651146888733),\n",
              " ('bad', 0.9998557567596436),\n",
              " ('got', 0.9998540878295898),\n",
              " ('man', 0.9998538494110107),\n",
              " ('back', 0.9998502731323242),\n",
              " ('im', 0.9998499155044556),\n",
              " ('day', 0.9998487830162048),\n",
              " ('hope', 0.9998486638069153),\n",
              " ('3', 0.9998483657836914),\n",
              " ('least', 0.9998481273651123)]"
            ]
          },
          "metadata": {},
          "execution_count": 24
        }
      ]
    },
    {
      "cell_type": "code",
      "source": [
        "%%time\n",
        "tokenizer = Tokenizer()\n",
        "tokenizer.fit_on_texts(df_train.text)\n",
        "\n",
        "vocab_size = len(tokenizer.word_index) + 1\n",
        "print(\"Total words\", vocab_size)"
      ],
      "metadata": {
        "colab": {
          "base_uri": "https://localhost:8080/"
        },
        "id": "ZO9v7L1M5c-c",
        "outputId": "20dbde74-9a47-4c8e-b0e3-45fa3234e008"
      },
      "execution_count": 25,
      "outputs": [
        {
          "output_type": "stream",
          "name": "stdout",
          "text": [
            "Total words 3415\n",
            "CPU times: user 53.2 ms, sys: 26.7 ms, total: 79.9 ms\n",
            "Wall time: 85.1 ms\n"
          ]
        }
      ]
    },
    {
      "cell_type": "code",
      "source": [
        "%%time\n",
        "x_train = pad_sequences(tokenizer.texts_to_sequences(df_train.text), maxlen=SEQUENCE_LENGTH)\n",
        "x_test = pad_sequences(tokenizer.texts_to_sequences(df_test.text), maxlen=SEQUENCE_LENGTH)"
      ],
      "metadata": {
        "colab": {
          "base_uri": "https://localhost:8080/"
        },
        "id": "Ol__xPiS5eO9",
        "outputId": "f2fe073e-d999-491c-b4a1-0599f33272a7"
      },
      "execution_count": 26,
      "outputs": [
        {
          "output_type": "stream",
          "name": "stdout",
          "text": [
            "CPU times: user 36 ms, sys: 7.01 ms, total: 43 ms\n",
            "Wall time: 38.7 ms\n"
          ]
        }
      ]
    },
    {
      "cell_type": "code",
      "source": [
        "labels = df_train.target.unique().tolist()\n",
        "labels.append(NEUTRAL)\n",
        "labels"
      ],
      "metadata": {
        "colab": {
          "base_uri": "https://localhost:8080/"
        },
        "id": "27G101An5gU9",
        "outputId": "250709ee-a83e-42d6-9f85-1b0632f7413f"
      },
      "execution_count": 27,
      "outputs": [
        {
          "output_type": "execute_result",
          "data": {
            "text/plain": [
              "['NEGATIVE', 'NEUTRAL']"
            ]
          },
          "metadata": {},
          "execution_count": 27
        }
      ]
    },
    {
      "cell_type": "code",
      "source": [
        "encoder = LabelEncoder()\n",
        "encoder.fit(df_train.target.tolist())\n",
        "\n",
        "y_train = encoder.transform(df_train.target.tolist())\n",
        "y_test = encoder.transform(df_test.target.tolist())\n",
        "\n",
        "y_train = y_train.reshape(-1,1)\n",
        "y_test = y_test.reshape(-1,1)\n",
        "\n",
        "print(\"y_train\",y_train.shape)\n",
        "print(\"y_test\",y_test.shape)"
      ],
      "metadata": {
        "colab": {
          "base_uri": "https://localhost:8080/"
        },
        "id": "oja0Q2qj5h4P",
        "outputId": "2bf84830-3133-43ca-a283-e853670d4976"
      },
      "execution_count": 28,
      "outputs": [
        {
          "output_type": "stream",
          "name": "stdout",
          "text": [
            "y_train (1265, 1)\n",
            "y_test (317, 1)\n"
          ]
        }
      ]
    },
    {
      "cell_type": "code",
      "source": [
        "print(\"x_train\", x_train.shape)\n",
        "print(\"y_train\", y_train.shape)\n",
        "print()\n",
        "print(\"x_test\", x_test.shape)\n",
        "print(\"y_test\", y_test.shape)"
      ],
      "metadata": {
        "colab": {
          "base_uri": "https://localhost:8080/"
        },
        "id": "0ZhBGBrB5jLl",
        "outputId": "85d0ea87-7f34-4d52-cd4d-be4a14330fdb"
      },
      "execution_count": 29,
      "outputs": [
        {
          "output_type": "stream",
          "name": "stdout",
          "text": [
            "x_train (1265, 300)\n",
            "y_train (1265, 1)\n",
            "\n",
            "x_test (317, 300)\n",
            "y_test (317, 1)\n"
          ]
        }
      ]
    },
    {
      "cell_type": "code",
      "source": [
        "y_train[:10]"
      ],
      "metadata": {
        "colab": {
          "base_uri": "https://localhost:8080/"
        },
        "id": "QNfgCniy5kcg",
        "outputId": "da528945-ba8e-4172-99fb-be965a9127d2"
      },
      "execution_count": 30,
      "outputs": [
        {
          "output_type": "execute_result",
          "data": {
            "text/plain": [
              "array([[0],\n",
              "       [0],\n",
              "       [0],\n",
              "       [0],\n",
              "       [0],\n",
              "       [0],\n",
              "       [0],\n",
              "       [0],\n",
              "       [0],\n",
              "       [0]])"
            ]
          },
          "metadata": {},
          "execution_count": 30
        }
      ]
    },
    {
      "cell_type": "code",
      "source": [
        "embedding_matrix = np.zeros((vocab_size, W2V_SIZE))\n",
        "for word, i in tokenizer.word_index.items():\n",
        "  if word in w2v_model.wv:\n",
        "    embedding_matrix[i] = w2v_model.wv[word]\n",
        "print(embedding_matrix.shape)"
      ],
      "metadata": {
        "colab": {
          "base_uri": "https://localhost:8080/"
        },
        "id": "3gMcsiGE5mRC",
        "outputId": "d12af31b-ab92-4ae0-c529-4144cab83006"
      },
      "execution_count": 31,
      "outputs": [
        {
          "output_type": "stream",
          "name": "stdout",
          "text": [
            "(3415, 300)\n"
          ]
        }
      ]
    },
    {
      "cell_type": "code",
      "source": [
        "embedding_layer = Embedding(vocab_size, W2V_SIZE, weights=[embedding_matrix], input_length=SEQUENCE_LENGTH, trainable=False)"
      ],
      "metadata": {
        "id": "uUKwCnQ05ndo"
      },
      "execution_count": 32,
      "outputs": []
    },
    {
      "cell_type": "code",
      "source": [
        "model = Sequential()\n",
        "model.add(embedding_layer)\n",
        "model.add(Dropout(0.5))\n",
        "model.add(LSTM(100, dropout=0.2, recurrent_dropout=0.2))\n",
        "model.add(Dense(1, activation='sigmoid'))\n",
        "\n",
        "model.summary()"
      ],
      "metadata": {
        "colab": {
          "base_uri": "https://localhost:8080/"
        },
        "id": "CsS9WOko5omZ",
        "outputId": "d4e2232f-1e0f-4726-e1d4-c56574334004"
      },
      "execution_count": 33,
      "outputs": [
        {
          "output_type": "stream",
          "name": "stdout",
          "text": [
            "Model: \"sequential\"\n",
            "_________________________________________________________________\n",
            " Layer (type)                Output Shape              Param #   \n",
            "=================================================================\n",
            " embedding (Embedding)       (None, 300, 300)          1024500   \n",
            "                                                                 \n",
            " dropout (Dropout)           (None, 300, 300)          0         \n",
            "                                                                 \n",
            " lstm (LSTM)                 (None, 100)               160400    \n",
            "                                                                 \n",
            " dense (Dense)               (None, 1)                 101       \n",
            "                                                                 \n",
            "=================================================================\n",
            "Total params: 1,185,001\n",
            "Trainable params: 160,501\n",
            "Non-trainable params: 1,024,500\n",
            "_________________________________________________________________\n"
          ]
        }
      ]
    },
    {
      "cell_type": "code",
      "source": [
        "model.compile(loss='binary_crossentropy',\n",
        "              optimizer=\"adam\",\n",
        "              metrics=['accuracy'])"
      ],
      "metadata": {
        "id": "Z6bVefEG5p-7"
      },
      "execution_count": 34,
      "outputs": []
    },
    {
      "cell_type": "code",
      "source": [
        "callbacks = [ ReduceLROnPlateau(monitor='val_loss', patience=5, cooldown=0),\n",
        "              EarlyStopping(monitor='val_acc', min_delta=1e-4, patience=5)]"
      ],
      "metadata": {
        "id": "6GdG7b5i5rI6"
      },
      "execution_count": 35,
      "outputs": []
    },
    {
      "cell_type": "code",
      "source": [
        "%%time\n",
        "history = model.fit(x_train, y_train,\n",
        "                    batch_size=BATCH_SIZE,\n",
        "                    epochs=EPOCHS,\n",
        "                    validation_split=0.1,\n",
        "                    verbose=1,\n",
        "                    callbacks=callbacks)"
      ],
      "metadata": {
        "colab": {
          "base_uri": "https://localhost:8080/"
        },
        "id": "fl-v0URa5sqR",
        "outputId": "56d5ecbb-2109-4178-f654-427ea24bb1ae"
      },
      "execution_count": 36,
      "outputs": [
        {
          "output_type": "stream",
          "name": "stdout",
          "text": [
            "Epoch 1/8\n",
            "2/2 [==============================] - ETA: 0s - loss: 0.6720 - accuracy: 0.8919 WARNING:tensorflow:Early stopping conditioned on metric `val_acc` which is not available. Available metrics are: loss,accuracy,val_loss,val_accuracy,lr\n"
          ]
        },
        {
          "output_type": "stream",
          "name": "stderr",
          "text": [
            "2022-01-16 13:40:09,167 : WARNING : Early stopping conditioned on metric `val_acc` which is not available. Available metrics are: loss,accuracy,val_loss,val_accuracy,lr\n"
          ]
        },
        {
          "output_type": "stream",
          "name": "stdout",
          "text": [
            "\b\b\b\b\b\b\b\b\b\b\b\b\b\b\b\b\b\b\b\b\b\b\b\b\b\b\b\b\b\b\b\b\b\b\b\b\b\b\b\b\b\b\b\b\b\b\b\b\b\b\b\b\b\b\b\b\b\b\b\b\b\b\b\b\b\b\b\b\b\b\b\b\b\b\b\b\b\b\b\b\r2/2 [==============================] - 20s 3s/step - loss: 0.6720 - accuracy: 0.8919 - val_loss: 0.5640 - val_accuracy: 1.0000 - lr: 0.0010\n",
            "Epoch 2/8\n",
            "2/2 [==============================] - ETA: 0s - loss: 0.5735 - accuracy: 1.0000 WARNING:tensorflow:Early stopping conditioned on metric `val_acc` which is not available. Available metrics are: loss,accuracy,val_loss,val_accuracy,lr\n"
          ]
        },
        {
          "output_type": "stream",
          "name": "stderr",
          "text": [
            "2022-01-16 13:40:25,018 : WARNING : Early stopping conditioned on metric `val_acc` which is not available. Available metrics are: loss,accuracy,val_loss,val_accuracy,lr\n"
          ]
        },
        {
          "output_type": "stream",
          "name": "stdout",
          "text": [
            "\b\b\b\b\b\b\b\b\b\b\b\b\b\b\b\b\b\b\b\b\b\b\b\b\b\b\b\b\b\b\b\b\b\b\b\b\b\b\b\b\b\b\b\b\b\b\b\b\b\b\b\b\b\b\b\b\b\b\b\b\b\b\b\b\b\b\b\b\b\b\b\b\b\b\b\b\b\b\b\b\r2/2 [==============================] - 16s 2s/step - loss: 0.5735 - accuracy: 1.0000 - val_loss: 0.4577 - val_accuracy: 1.0000 - lr: 0.0010\n",
            "Epoch 3/8\n",
            "2/2 [==============================] - ETA: 0s - loss: 0.4778 - accuracy: 1.0000 WARNING:tensorflow:Early stopping conditioned on metric `val_acc` which is not available. Available metrics are: loss,accuracy,val_loss,val_accuracy,lr\n"
          ]
        },
        {
          "output_type": "stream",
          "name": "stderr",
          "text": [
            "2022-01-16 13:40:39,429 : WARNING : Early stopping conditioned on metric `val_acc` which is not available. Available metrics are: loss,accuracy,val_loss,val_accuracy,lr\n"
          ]
        },
        {
          "output_type": "stream",
          "name": "stdout",
          "text": [
            "\b\b\b\b\b\b\b\b\b\b\b\b\b\b\b\b\b\b\b\b\b\b\b\b\b\b\b\b\b\b\b\b\b\b\b\b\b\b\b\b\b\b\b\b\b\b\b\b\b\b\b\b\b\b\b\b\b\b\b\b\b\b\b\b\b\b\b\b\b\b\b\b\b\b\b\b\b\b\b\b\r2/2 [==============================] - 14s 3s/step - loss: 0.4778 - accuracy: 1.0000 - val_loss: 0.3497 - val_accuracy: 1.0000 - lr: 0.0010\n",
            "Epoch 4/8\n",
            "2/2 [==============================] - ETA: 0s - loss: 0.3763 - accuracy: 1.0000 WARNING:tensorflow:Early stopping conditioned on metric `val_acc` which is not available. Available metrics are: loss,accuracy,val_loss,val_accuracy,lr\n"
          ]
        },
        {
          "output_type": "stream",
          "name": "stderr",
          "text": [
            "2022-01-16 13:40:53,463 : WARNING : Early stopping conditioned on metric `val_acc` which is not available. Available metrics are: loss,accuracy,val_loss,val_accuracy,lr\n"
          ]
        },
        {
          "output_type": "stream",
          "name": "stdout",
          "text": [
            "\b\b\b\b\b\b\b\b\b\b\b\b\b\b\b\b\b\b\b\b\b\b\b\b\b\b\b\b\b\b\b\b\b\b\b\b\b\b\b\b\b\b\b\b\b\b\b\b\b\b\b\b\b\b\b\b\b\b\b\b\b\b\b\b\b\b\b\b\b\b\b\b\b\b\b\b\b\b\b\b\r2/2 [==============================] - 14s 2s/step - loss: 0.3763 - accuracy: 1.0000 - val_loss: 0.2427 - val_accuracy: 1.0000 - lr: 0.0010\n",
            "Epoch 5/8\n",
            "2/2 [==============================] - ETA: 0s - loss: 0.2744 - accuracy: 1.0000 WARNING:tensorflow:Early stopping conditioned on metric `val_acc` which is not available. Available metrics are: loss,accuracy,val_loss,val_accuracy,lr\n"
          ]
        },
        {
          "output_type": "stream",
          "name": "stderr",
          "text": [
            "2022-01-16 13:41:07,546 : WARNING : Early stopping conditioned on metric `val_acc` which is not available. Available metrics are: loss,accuracy,val_loss,val_accuracy,lr\n"
          ]
        },
        {
          "output_type": "stream",
          "name": "stdout",
          "text": [
            "\b\b\b\b\b\b\b\b\b\b\b\b\b\b\b\b\b\b\b\b\b\b\b\b\b\b\b\b\b\b\b\b\b\b\b\b\b\b\b\b\b\b\b\b\b\b\b\b\b\b\b\b\b\b\b\b\b\b\b\b\b\b\b\b\b\b\b\b\b\b\b\b\b\b\b\b\b\b\b\b\r2/2 [==============================] - 14s 2s/step - loss: 0.2744 - accuracy: 1.0000 - val_loss: 0.1400 - val_accuracy: 1.0000 - lr: 0.0010\n",
            "Epoch 6/8\n",
            "2/2 [==============================] - ETA: 0s - loss: 0.1635 - accuracy: 1.0000 WARNING:tensorflow:Early stopping conditioned on metric `val_acc` which is not available. Available metrics are: loss,accuracy,val_loss,val_accuracy,lr\n"
          ]
        },
        {
          "output_type": "stream",
          "name": "stderr",
          "text": [
            "2022-01-16 13:41:21,453 : WARNING : Early stopping conditioned on metric `val_acc` which is not available. Available metrics are: loss,accuracy,val_loss,val_accuracy,lr\n"
          ]
        },
        {
          "output_type": "stream",
          "name": "stdout",
          "text": [
            "\b\b\b\b\b\b\b\b\b\b\b\b\b\b\b\b\b\b\b\b\b\b\b\b\b\b\b\b\b\b\b\b\b\b\b\b\b\b\b\b\b\b\b\b\b\b\b\b\b\b\b\b\b\b\b\b\b\b\b\b\b\b\b\b\b\b\b\b\b\b\b\b\b\b\b\b\b\b\b\b\r2/2 [==============================] - 14s 2s/step - loss: 0.1635 - accuracy: 1.0000 - val_loss: 0.0052 - val_accuracy: 1.0000 - lr: 0.0010\n",
            "Epoch 7/8\n",
            "2/2 [==============================] - ETA: 0s - loss: 0.0065 - accuracy: 1.0000 WARNING:tensorflow:Early stopping conditioned on metric `val_acc` which is not available. Available metrics are: loss,accuracy,val_loss,val_accuracy,lr\n"
          ]
        },
        {
          "output_type": "stream",
          "name": "stderr",
          "text": [
            "2022-01-16 13:41:35,381 : WARNING : Early stopping conditioned on metric `val_acc` which is not available. Available metrics are: loss,accuracy,val_loss,val_accuracy,lr\n"
          ]
        },
        {
          "output_type": "stream",
          "name": "stdout",
          "text": [
            "\b\b\b\b\b\b\b\b\b\b\b\b\b\b\b\b\b\b\b\b\b\b\b\b\b\b\b\b\b\b\b\b\b\b\b\b\b\b\b\b\b\b\b\b\b\b\b\b\b\b\b\b\b\b\b\b\b\b\b\b\b\b\b\b\b\b\b\b\b\b\b\b\b\b\b\b\b\b\b\b\r2/2 [==============================] - 14s 2s/step - loss: 0.0065 - accuracy: 1.0000 - val_loss: 9.2169e-04 - val_accuracy: 1.0000 - lr: 0.0010\n",
            "Epoch 8/8\n",
            "2/2 [==============================] - ETA: 0s - loss: 0.0010 - accuracy: 1.0000 WARNING:tensorflow:Early stopping conditioned on metric `val_acc` which is not available. Available metrics are: loss,accuracy,val_loss,val_accuracy,lr\n"
          ]
        },
        {
          "output_type": "stream",
          "name": "stderr",
          "text": [
            "2022-01-16 13:41:49,415 : WARNING : Early stopping conditioned on metric `val_acc` which is not available. Available metrics are: loss,accuracy,val_loss,val_accuracy,lr\n"
          ]
        },
        {
          "output_type": "stream",
          "name": "stdout",
          "text": [
            "\b\b\b\b\b\b\b\b\b\b\b\b\b\b\b\b\b\b\b\b\b\b\b\b\b\b\b\b\b\b\b\b\b\b\b\b\b\b\b\b\b\b\b\b\b\b\b\b\b\b\b\b\b\b\b\b\b\b\b\b\b\b\b\b\b\b\b\b\b\b\b\b\b\b\b\b\b\b\b\b\r2/2 [==============================] - 14s 2s/step - loss: 0.0010 - accuracy: 1.0000 - val_loss: 4.2179e-04 - val_accuracy: 1.0000 - lr: 0.0010\n",
            "CPU times: user 3min 21s, sys: 22.2 s, total: 3min 43s\n",
            "Wall time: 1min 59s\n"
          ]
        }
      ]
    },
    {
      "cell_type": "code",
      "source": [
        "%%time\n",
        "score = model.evaluate(x_test, y_test, batch_size=BATCH_SIZE)\n",
        "print()\n",
        "print(\"ACCURACY:\",score[1])\n",
        "print(\"LOSS:\",score[0])"
      ],
      "metadata": {
        "colab": {
          "base_uri": "https://localhost:8080/"
        },
        "id": "CngRGhwZ5uFl",
        "outputId": "49b78112-f144-45f5-e9e4-433233db9305"
      },
      "execution_count": 37,
      "outputs": [
        {
          "output_type": "stream",
          "name": "stdout",
          "text": [
            "1/1 [==============================] - 1s 834ms/step - loss: 4.1438e-04 - accuracy: 1.0000\n",
            "\n",
            "ACCURACY: 1.0\n",
            "LOSS: 0.0004143751575611532\n",
            "CPU times: user 1.43 s, sys: 155 ms, total: 1.59 s\n",
            "Wall time: 881 ms\n"
          ]
        }
      ]
    },
    {
      "cell_type": "code",
      "source": [
        "def decode_sentiment(score, include_neutral=True):\n",
        "    if include_neutral:        \n",
        "        label = NEUTRAL\n",
        "        if score <= SENTIMENT_THRESHOLDS[0]:\n",
        "            label = NEGATIVE\n",
        "        elif score >= SENTIMENT_THRESHOLDS[1]:\n",
        "            label = POSITIVE\n",
        "\n",
        "        return label\n",
        "    else:\n",
        "        return NEGATIVE if score < 0.5 else POSITIVE"
      ],
      "metadata": {
        "id": "wUeBQoKM5xFi"
      },
      "execution_count": 38,
      "outputs": []
    },
    {
      "cell_type": "code",
      "source": [
        "def predict(text, include_neutral=True):\n",
        "    start_at = time.time()\n",
        "    # Tokenize text\n",
        "    x_test = pad_sequences(tokenizer.texts_to_sequences([text]), maxlen=SEQUENCE_LENGTH)\n",
        "    # Predict\n",
        "    score = model.predict([x_test])[0]\n",
        "    # Decode sentiment\n",
        "    label = decode_sentiment(score, include_neutral=include_neutral)\n",
        "\n",
        "    return {\"label\": label, \"score\": float(score),\n",
        "       \"elapsed_time\": time.time()-start_at}  "
      ],
      "metadata": {
        "id": "xwxLoU075yia"
      },
      "execution_count": 39,
      "outputs": []
    },
    {
      "cell_type": "code",
      "source": [
        "predict(\"I love the music\")"
      ],
      "metadata": {
        "colab": {
          "base_uri": "https://localhost:8080/"
        },
        "id": "6aRQ0nBr5z2g",
        "outputId": "ff1d3ea8-97d6-446a-8267-8f3b034c0e84"
      },
      "execution_count": 40,
      "outputs": [
        {
          "output_type": "execute_result",
          "data": {
            "text/plain": [
              "{'elapsed_time': 0.4111049175262451,\n",
              " 'label': 'NEGATIVE',\n",
              " 'score': 0.0004950463771820068}"
            ]
          },
          "metadata": {},
          "execution_count": 40
        }
      ]
    },
    {
      "cell_type": "code",
      "source": [
        "predict(\"I hate the rain\")"
      ],
      "metadata": {
        "colab": {
          "base_uri": "https://localhost:8080/"
        },
        "id": "vFq2MZhZ51ln",
        "outputId": "8a6e217a-7fda-42f0-c6cd-0d072be44672"
      },
      "execution_count": 41,
      "outputs": [
        {
          "output_type": "execute_result",
          "data": {
            "text/plain": [
              "{'elapsed_time': 0.1057443618774414,\n",
              " 'label': 'NEGATIVE',\n",
              " 'score': 0.0005012750625610352}"
            ]
          },
          "metadata": {},
          "execution_count": 41
        }
      ]
    },
    {
      "cell_type": "code",
      "source": [
        "predict(\"i don't know what i'm doing\")"
      ],
      "metadata": {
        "colab": {
          "base_uri": "https://localhost:8080/"
        },
        "id": "VrCQ9yAq52o3",
        "outputId": "598d4f8f-7851-451c-eb65-a69937a3e04d"
      },
      "execution_count": 42,
      "outputs": [
        {
          "output_type": "execute_result",
          "data": {
            "text/plain": [
              "{'elapsed_time': 0.09854745864868164,\n",
              " 'label': 'NEGATIVE',\n",
              " 'score': 0.0003364086151123047}"
            ]
          },
          "metadata": {},
          "execution_count": 42
        }
      ]
    },
    {
      "cell_type": "code",
      "source": [
        "%%time\n",
        "y_pred_1d = []\n",
        "y_test_1d = list(df_test.target)\n",
        "scores = model.predict(x_test, verbose=1, batch_size=8000)\n",
        "y_pred_1d = [decode_sentiment(score, include_neutral=False) for score in scores]"
      ],
      "metadata": {
        "colab": {
          "base_uri": "https://localhost:8080/"
        },
        "id": "fFu9w_Ux54Ua",
        "outputId": "abbcaa0d-ea0c-42d4-88d0-c4d87c94b920"
      },
      "execution_count": 43,
      "outputs": [
        {
          "output_type": "stream",
          "name": "stdout",
          "text": [
            "1/1 [==============================] - 1s 1s/step\n",
            "CPU times: user 1.64 s, sys: 161 ms, total: 1.8 s\n",
            "Wall time: 1.55 s\n"
          ]
        }
      ]
    },
    {
      "cell_type": "code",
      "source": [
        "def plot_confusion_matrix(cm, classes,\n",
        "                          title='Confusion matrix',\n",
        "                          cmap=plt.cm.Blues):\n",
        "    \"\"\"\n",
        "    This function prints and plots the confusion matrix.\n",
        "    Normalization can be applied by setting `normalize=True`.\n",
        "    \"\"\"\n",
        "\n",
        "    cm = cm.astype('float') / cm.sum(axis=1)[:, np.newaxis]\n",
        "\n",
        "    plt.imshow(cm, interpolation='nearest', cmap=cmap)\n",
        "    plt.title(title, fontsize=30)\n",
        "    plt.colorbar()\n",
        "    tick_marks = np.arange(len(classes))\n",
        "    plt.xticks(tick_marks, classes, rotation=90, fontsize=22)\n",
        "    plt.yticks(tick_marks, classes, fontsize=22)\n",
        "\n",
        "    fmt = '.2f'\n",
        "    thresh = cm.max() / 2.\n",
        "    for i, j in itertools.product(range(cm.shape[0]), range(cm.shape[1])):\n",
        "        plt.text(j, i, format(cm[i, j], fmt),\n",
        "                 horizontalalignment=\"center\",\n",
        "                 color=\"white\" if cm[i, j] > thresh else \"black\")\n",
        "\n",
        "    plt.ylabel('True label', fontsize=25)\n",
        "    plt.xlabel('Predicted label', fontsize=25)"
      ],
      "metadata": {
        "id": "W8ffx5Vv55hD"
      },
      "execution_count": 44,
      "outputs": []
    },
    {
      "cell_type": "code",
      "source": [
        "%%time\n",
        "\n",
        "cnf_matrix = confusion_matrix(y_test_1d, y_pred_1d)\n",
        "plt.figure(figsize=(12,12))\n",
        "plot_confusion_matrix(cnf_matrix, classes=df_train.target.unique(), title=\"Confusion matrix\")\n",
        "plt.show()"
      ],
      "metadata": {
        "colab": {
          "base_uri": "https://localhost:8080/",
          "height": 808
        },
        "id": "4SFUhIs156pw",
        "outputId": "5c17fae1-6d4d-4d99-8123-3973932c9a97"
      },
      "execution_count": 45,
      "outputs": [
        {
          "output_type": "display_data",
          "data": {
            "image/png": "[encoded data removed]",
            "text/plain": [
              "<Figure size 864x864 with 2 Axes>"
            ]
          },
          "metadata": {
            "needs_background": "light"
          }
        },
        {
          "output_type": "stream",
          "name": "stdout",
          "text": [
            "CPU times: user 267 ms, sys: 6.83 ms, total: 274 ms\n",
            "Wall time: 276 ms\n"
          ]
        }
      ]
    },
    {
      "cell_type": "code",
      "source": [
        "accuracy_score(y_test_1d, y_pred_1d)"
      ],
      "metadata": {
        "colab": {
          "base_uri": "https://localhost:8080/"
        },
        "id": "zjBzluum577h",
        "outputId": "15426476-9216-4aa7-8993-c8210cfd6ec0"
      },
      "execution_count": 46,
      "outputs": [
        {
          "output_type": "execute_result",
          "data": {
            "text/plain": [
              "1.0"
            ]
          },
          "metadata": {},
          "execution_count": 46
        }
      ]
    },
    {
      "cell_type": "code",
      "source": [
        "model.save(KERAS_MODEL)\n",
        "w2v_model.save(WORD2VEC_MODEL)\n",
        "pickle.dump(tokenizer, open(TOKENIZER_MODEL, \"wb\"), protocol=0)\n",
        "pickle.dump(encoder, open(ENCODER_MODEL, \"wb\"), protocol=0)"
      ],
      "metadata": {
        "colab": {
          "base_uri": "https://localhost:8080/"
        },
        "id": "8lZPAxQJ5-EY",
        "outputId": "d17fc279-7c4e-4d95-b135-4a2c8cfa7fad"
      },
      "execution_count": 47,
      "outputs": [
        {
          "output_type": "stream",
          "name": "stderr",
          "text": [
            "2022-01-16 13:41:52,955 : INFO : saving Word2Vec object under model.w2v, separately None\n",
            "2022-01-16 13:41:52,956 : INFO : not storing attribute vectors_norm\n",
            "2022-01-16 13:41:52,958 : INFO : not storing attribute cum_table\n",
            "2022-01-16 13:41:52,972 : INFO : saved model.w2v\n"
          ]
        }
      ]
    },
    {
      "cell_type": "code",
      "source": [
        ""
      ],
      "metadata": {
        "id": "m2kGSMux5_iF"
      },
      "execution_count": 47,
      "outputs": []
    }
  ]
}